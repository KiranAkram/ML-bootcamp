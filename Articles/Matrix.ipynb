{
 "cells": [
  {
   "cell_type": "markdown",
   "id": "dba97597",
   "metadata": {},
   "source": [
    "### Creating a matrix"
   ]
  },
  {
   "cell_type": "code",
   "execution_count": null,
   "id": "743a5fba",
   "metadata": {},
   "outputs": [],
   "source": [
    "#Lists of Lists:\n",
    "matrix = [[9, 6, 8],\n",
    "          [6, 5, 9],\n",
    "          [3, 2, 2]]\n"
   ]
  },
  {
   "cell_type": "code",
   "execution_count": null,
   "id": "040a35fa",
   "metadata": {},
   "outputs": [],
   "source": []
  },
  {
   "cell_type": "code",
   "execution_count": null,
   "id": "3290341d",
   "metadata": {},
   "outputs": [],
   "source": [
    "#to install numpy in notebook\n",
    "\n",
    "#!pip install numpy"
   ]
  },
  {
   "cell_type": "code",
   "execution_count": 2,
   "id": "4071e2c7",
   "metadata": {},
   "outputs": [],
   "source": [
    "#NumPy Library\n",
    "import numpy as np\n",
    "\n",
    "matrix = np.array([[9, 6, 8],\n",
    "                   [6, 5, 9],\n",
    "                   [3, 2, 2]])"
   ]
  },
  {
   "cell_type": "code",
   "execution_count": 3,
   "id": "0e58b127",
   "metadata": {},
   "outputs": [
    {
     "name": "stdout",
     "output_type": "stream",
     "text": [
      "[[9 6 8]\n",
      " [6 5 9]\n",
      " [3 2 2]]\n"
     ]
    }
   ],
   "source": [
    "print(matrix)"
   ]
  },
  {
   "cell_type": "code",
   "execution_count": null,
   "id": "f5d8cdcf",
   "metadata": {},
   "outputs": [],
   "source": []
  },
  {
   "cell_type": "code",
   "execution_count": 4,
   "id": "93a6f414",
   "metadata": {},
   "outputs": [
    {
     "name": "stdout",
     "output_type": "stream",
     "text": [
      "[[0. 0.]\n",
      " [0. 0.]]\n"
     ]
    }
   ],
   "source": [
    "#NumPy Functions\n",
    "import numpy as np\n",
    "\n",
    "zero_matrix = np.zeros((2, 2))\n",
    "print(zero_matrix)"
   ]
  },
  {
   "cell_type": "code",
   "execution_count": 6,
   "id": "d028d175",
   "metadata": {},
   "outputs": [
    {
     "name": "stdout",
     "output_type": "stream",
     "text": [
      "[[1. 1.]\n",
      " [1. 1.]\n",
      " [1. 1.]]\n"
     ]
    }
   ],
   "source": [
    "one_matrix = np.ones((3, 2))\n",
    "print(one_matrix)"
   ]
  },
  {
   "cell_type": "code",
   "execution_count": 7,
   "id": "bb1acc2b",
   "metadata": {},
   "outputs": [
    {
     "name": "stdout",
     "output_type": "stream",
     "text": [
      "[[0.69509681 0.13170359]\n",
      " [0.40592545 0.63222216]\n",
      " [0.83564657 0.05351278]]\n"
     ]
    }
   ],
   "source": [
    "random_matrix = np.random.rand(3, 2)\n",
    "print(random_matrix)"
   ]
  },
  {
   "cell_type": "code",
   "execution_count": null,
   "id": "b20ea2a6",
   "metadata": {},
   "outputs": [],
   "source": []
  },
  {
   "cell_type": "code",
   "execution_count": 8,
   "id": "3f38897d",
   "metadata": {},
   "outputs": [
    {
     "name": "stdout",
     "output_type": "stream",
     "text": [
      "[[0, 1], [0, 1]]\n"
     ]
    }
   ],
   "source": [
    "#List Comprehension:\n",
    "matrix = [[column for column in range(2)] for row in range(2)]\n",
    "\n",
    "print(matrix)"
   ]
  },
  {
   "cell_type": "code",
   "execution_count": null,
   "id": "22dd4516",
   "metadata": {},
   "outputs": [],
   "source": []
  },
  {
   "cell_type": "markdown",
   "id": "979abf51",
   "metadata": {},
   "source": [
    "### Addition and Subtraction"
   ]
  },
  {
   "cell_type": "code",
   "execution_count": 9,
   "id": "c0da8aad",
   "metadata": {},
   "outputs": [],
   "source": [
    "import numpy as np\n",
    "\n",
    "# Define two matrices A and B\n",
    "A = np.array([[3, 5, 2],\n",
    "              [4, 1, 3],\n",
    "              [6, 2, 1]])\n",
    "\n",
    "B = np.array([[4, 2, 1],\n",
    "              [1, 5, 3],\n",
    "              [4, 1, 3]])"
   ]
  },
  {
   "cell_type": "code",
   "execution_count": 10,
   "id": "af892b4b",
   "metadata": {},
   "outputs": [
    {
     "name": "stdout",
     "output_type": "stream",
     "text": [
      "Addition of two matrices\n",
      "[[ 7  7  3]\n",
      " [ 5  6  6]\n",
      " [10  3  4]]\n",
      "Subtraction of two matrices\n",
      "[[-1  3  1]\n",
      " [ 3 -4  0]\n",
      " [ 2  1 -2]]\n"
     ]
    }
   ],
   "source": [
    "# Perform matrix addition subtrcation\n",
    "C = A + B\n",
    "D = A-B\n",
    "print(\"Addition of two matrices\")\n",
    "print(C)\n",
    "\n",
    "print(\"Subtraction of two matrices\")\n",
    "print(D)"
   ]
  },
  {
   "cell_type": "code",
   "execution_count": 11,
   "id": "a31f9a8a",
   "metadata": {},
   "outputs": [
    {
     "name": "stdout",
     "output_type": "stream",
     "text": [
      "Addition of two matrices\n",
      "[[ 7  7  3]\n",
      " [ 5  6  6]\n",
      " [10  3  4]]\n",
      "Subtraction of two matrices\n",
      "[[-1  3  1]\n",
      " [ 3 -4  0]\n",
      " [ 2  1 -2]]\n"
     ]
    }
   ],
   "source": [
    "#using NumPy\n",
    "import numpy as np\n",
    "\n",
    "print(\"Addition of two matrices\")\n",
    "print(np.add(A, B))\n",
    "print(\"Subtraction of two matrices\")\n",
    "print(np.subtract(A, B))"
   ]
  },
  {
   "cell_type": "code",
   "execution_count": null,
   "id": "ad81d151",
   "metadata": {},
   "outputs": [],
   "source": []
  },
  {
   "cell_type": "markdown",
   "id": "4a4107a8",
   "metadata": {},
   "source": [
    "### Multiplication"
   ]
  },
  {
   "cell_type": "code",
   "execution_count": 12,
   "id": "9dde9dc2",
   "metadata": {
    "scrolled": true
   },
   "outputs": [
    {
     "name": "stdout",
     "output_type": "stream",
     "text": [
      "[[25 33 24]\n",
      " [29 16 16]\n",
      " [30 23 15]]\n"
     ]
    }
   ],
   "source": [
    "#using element-wise method\n",
    "import numpy as np\n",
    "\n",
    "C = np.dot(A, B)\n",
    "print(C)"
   ]
  },
  {
   "cell_type": "code",
   "execution_count": 13,
   "id": "1a3a9ce3",
   "metadata": {},
   "outputs": [
    {
     "name": "stdout",
     "output_type": "stream",
     "text": [
      "[[25 33 24]\n",
      " [29 16 16]\n",
      " [30 23 15]]\n",
      "[[25 33 24]\n",
      " [29 16 16]\n",
      " [30 23 15]]\n"
     ]
    }
   ],
   "source": [
    "#using row-column method\n",
    "import numpy as np\n",
    "\n",
    "C = np.matmul(A, B)\n",
    "print(C)\n",
    "\n",
    "D = A@B\n",
    "print(D)"
   ]
  },
  {
   "cell_type": "code",
   "execution_count": null,
   "id": "b4fc0a6b",
   "metadata": {},
   "outputs": [],
   "source": []
  },
  {
   "cell_type": "markdown",
   "id": "586ae7a6",
   "metadata": {},
   "source": [
    "### Transpose"
   ]
  },
  {
   "cell_type": "code",
   "execution_count": 14,
   "id": "e863d02a",
   "metadata": {},
   "outputs": [
    {
     "name": "stdout",
     "output_type": "stream",
     "text": [
      "[[3 4 6]\n",
      " [5 1 2]\n",
      " [2 3 1]]\n"
     ]
    }
   ],
   "source": [
    "#let there be a matrix A, its transpose will be\n",
    "\n",
    "AT = A.T\n",
    "print(AT)"
   ]
  },
  {
   "cell_type": "code",
   "execution_count": 15,
   "id": "2b647cb9",
   "metadata": {},
   "outputs": [
    {
     "name": "stdout",
     "output_type": "stream",
     "text": [
      "[[3 4 6]\n",
      " [5 1 2]\n",
      " [2 3 1]]\n"
     ]
    }
   ],
   "source": [
    "ta = A.transpose()\n",
    "print(ta)"
   ]
  },
  {
   "cell_type": "code",
   "execution_count": null,
   "id": "3dbc671e",
   "metadata": {},
   "outputs": [],
   "source": []
  },
  {
   "cell_type": "markdown",
   "id": "b89ecac5",
   "metadata": {},
   "source": [
    "### Inverse"
   ]
  },
  {
   "cell_type": "code",
   "execution_count": 16,
   "id": "0947607f",
   "metadata": {},
   "outputs": [
    {
     "name": "stdout",
     "output_type": "stream",
     "text": [
      "[[-0.08474576 -0.01694915  0.22033898]\n",
      " [ 0.23728814 -0.15254237 -0.01694915]\n",
      " [ 0.03389831  0.40677966 -0.28813559]]\n"
     ]
    }
   ],
   "source": [
    "#using numpy\n",
    "import numpy as np\n",
    "\n",
    "inverse_A = np.linalg.inv(A)\n",
    "print(inverse_A)"
   ]
  },
  {
   "cell_type": "code",
   "execution_count": null,
   "id": "c17243e8",
   "metadata": {},
   "outputs": [],
   "source": []
  }
 ],
 "metadata": {
  "kernelspec": {
   "display_name": "thesis",
   "language": "python",
   "name": "thesis"
  },
  "language_info": {
   "codemirror_mode": {
    "name": "ipython",
    "version": 3
   },
   "file_extension": ".py",
   "mimetype": "text/x-python",
   "name": "python",
   "nbconvert_exporter": "python",
   "pygments_lexer": "ipython3",
   "version": "3.9.6"
  }
 },
 "nbformat": 4,
 "nbformat_minor": 5
}
